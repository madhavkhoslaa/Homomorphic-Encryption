{
 "cells": [
  {
   "cell_type": "code",
   "execution_count": 16,
   "metadata": {},
   "outputs": [],
   "source": [
    "from Homomorphic.Encryption import EncryptorBits\n",
    "from utils.SerDe import SerDe"
   ]
  },
  {
   "cell_type": "code",
   "execution_count": 17,
   "metadata": {},
   "outputs": [],
   "source": [
    "A= EncryptorBits()\n",
    "S= SerDe()"
   ]
  },
  {
   "cell_type": "code",
   "execution_count": 18,
   "metadata": {},
   "outputs": [],
   "source": [
    "x= [x for x in range(10)]"
   ]
  },
  {
   "cell_type": "code",
   "execution_count": 19,
   "metadata": {},
   "outputs": [],
   "source": [
    "x_e= A.encryptArray(x)"
   ]
  },
  {
   "cell_type": "code",
   "execution_count": 20,
   "metadata": {},
   "outputs": [],
   "source": [
    "ser= S.Serialise(x_e)"
   ]
  },
  {
   "cell_type": "code",
   "execution_count": 21,
   "metadata": {},
   "outputs": [],
   "source": [
    "dser= S.Deserialise(ser)"
   ]
  },
  {
   "cell_type": "code",
   "execution_count": 22,
   "metadata": {},
   "outputs": [
    {
     "data": {
      "text/plain": [
       "[<phe.paillier.EncryptedNumber at 0x104a10b50>,\n",
       " <phe.paillier.EncryptedNumber at 0x104a10a10>,\n",
       " <phe.paillier.EncryptedNumber at 0x104a0b150>,\n",
       " <phe.paillier.EncryptedNumber at 0x104a0ba10>,\n",
       " <phe.paillier.EncryptedNumber at 0x104a0b210>,\n",
       " <phe.paillier.EncryptedNumber at 0x104a0bcd0>,\n",
       " <phe.paillier.EncryptedNumber at 0x104a0bc10>,\n",
       " <phe.paillier.EncryptedNumber at 0x104a0bb10>,\n",
       " <phe.paillier.EncryptedNumber at 0x104a0be50>,\n",
       " <phe.paillier.EncryptedNumber at 0x104a0b250>]"
      ]
     },
     "execution_count": 22,
     "metadata": {},
     "output_type": "execute_result"
    }
   ],
   "source": [
    "dser"
   ]
  },
  {
   "cell_type": "code",
   "execution_count": 23,
   "metadata": {},
   "outputs": [
    {
     "data": {
      "text/plain": [
       "{'content': b'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'}"
      ]
     },
     "execution_count": 23,
     "metadata": {},
     "output_type": "execute_result"
    }
   ],
   "source": [
    "ser"
   ]
  },
  {
   "cell_type": "code",
   "execution_count": null,
   "metadata": {},
   "outputs": [],
   "source": []
  },
  {
   "cell_type": "code",
   "execution_count": null,
   "metadata": {},
   "outputs": [],
   "source": []
  }
 ],
 "metadata": {
  "kernelspec": {
   "display_name": "Python 3.7.4 64-bit",
   "language": "python",
   "name": "python37464bit0eb2a432196c4aa8853a1c1bbe43c759"
  },
  "language_info": {
   "codemirror_mode": {
    "name": "ipython",
    "version": 3
   },
   "file_extension": ".py",
   "mimetype": "text/x-python",
   "name": "python",
   "nbconvert_exporter": "python",
   "pygments_lexer": "ipython3",
   "version": "3.7.4"
  }
 },
 "nbformat": 4,
 "nbformat_minor": 2
}
