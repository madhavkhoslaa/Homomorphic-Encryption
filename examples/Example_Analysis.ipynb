{
 "cells": [
  {
   "cell_type": "code",
   "execution_count": 28,
   "metadata": {},
   "outputs": [],
   "source": [
    "import pandas"
   ]
  },
  {
   "cell_type": "code",
   "execution_count": 29,
   "metadata": {},
   "outputs": [],
   "source": [
    "dataset= pandas.read_json('dataset.json')"
   ]
  },
  {
   "cell_type": "code",
   "execution_count": 30,
   "metadata": {},
   "outputs": [
    {
     "data": {
      "text/html": [
       "<div>\n",
       "<style scoped>\n",
       "    .dataframe tbody tr th:only-of-type {\n",
       "        vertical-align: middle;\n",
       "    }\n",
       "\n",
       "    .dataframe tbody tr th {\n",
       "        vertical-align: top;\n",
       "    }\n",
       "\n",
       "    .dataframe thead th {\n",
       "        text-align: right;\n",
       "    }\n",
       "</style>\n",
       "<table border=\"1\" class=\"dataframe\">\n",
       "  <thead>\n",
       "    <tr style=\"text-align: right;\">\n",
       "      <th></th>\n",
       "      <th>Pregnancies</th>\n",
       "      <th>Glucose</th>\n",
       "      <th>BloodPressure</th>\n",
       "      <th>SkinThickness</th>\n",
       "      <th>Insulin</th>\n",
       "      <th>BMI</th>\n",
       "      <th>DiaetesPedigreeFunction</th>\n",
       "      <th>Age</th>\n",
       "      <th>Outcome</th>\n",
       "    </tr>\n",
       "  </thead>\n",
       "  <tbody>\n",
       "    <tr>\n",
       "      <td>content</td>\n",
       "      <td>gANdcQAoY3BoZS5wYWlsGllcgpFmNyeXB0ZWROdW1iZXIK...</td>\n",
       "      <td>gANdcQAoY3BoZS5wYWlsGllcgpFmNyeXB0ZWROdW1iZXIK...</td>\n",
       "      <td>gANdcQAoY3BoZS5wYWlsGllcgpFmNyeXB0ZWROdW1iZXIK...</td>\n",
       "      <td>gANdcQAoY3BoZS5wYWlsGllcgpFmNyeXB0ZWROdW1iZXIK...</td>\n",
       "      <td>gANdcQAoY3BoZS5wYWlsGllcgpFmNyeXB0ZWROdW1iZXIK...</td>\n",
       "      <td>gANdcQAoY3BoZS5wYWlsGllcgpFmNyeXB0ZWROdW1iZXIK...</td>\n",
       "      <td>gANdcQAoY3BoZS5wYWlsGllcgpFmNyeXB0ZWROdW1iZXIK...</td>\n",
       "      <td>gANdcQAoY3BoZS5wYWlsGllcgpFmNyeXB0ZWROdW1iZXIK...</td>\n",
       "      <td>gANdcQAoY3BoZS5wYWlsGllcgpFmNyeXB0ZWROdW1iZXIK...</td>\n",
       "    </tr>\n",
       "  </tbody>\n",
       "</table>\n",
       "</div>"
      ],
      "text/plain": [
       "                                               Pregnancies  \\\n",
       "content  gANdcQAoY3BoZS5wYWlsGllcgpFmNyeXB0ZWROdW1iZXIK...   \n",
       "\n",
       "                                                   Glucose  \\\n",
       "content  gANdcQAoY3BoZS5wYWlsGllcgpFmNyeXB0ZWROdW1iZXIK...   \n",
       "\n",
       "                                             BloodPressure  \\\n",
       "content  gANdcQAoY3BoZS5wYWlsGllcgpFmNyeXB0ZWROdW1iZXIK...   \n",
       "\n",
       "                                             SkinThickness  \\\n",
       "content  gANdcQAoY3BoZS5wYWlsGllcgpFmNyeXB0ZWROdW1iZXIK...   \n",
       "\n",
       "                                                   Insulin  \\\n",
       "content  gANdcQAoY3BoZS5wYWlsGllcgpFmNyeXB0ZWROdW1iZXIK...   \n",
       "\n",
       "                                                       BMI  \\\n",
       "content  gANdcQAoY3BoZS5wYWlsGllcgpFmNyeXB0ZWROdW1iZXIK...   \n",
       "\n",
       "                                   DiaetesPedigreeFunction  \\\n",
       "content  gANdcQAoY3BoZS5wYWlsGllcgpFmNyeXB0ZWROdW1iZXIK...   \n",
       "\n",
       "                                                       Age  \\\n",
       "content  gANdcQAoY3BoZS5wYWlsGllcgpFmNyeXB0ZWROdW1iZXIK...   \n",
       "\n",
       "                                                   Outcome  \n",
       "content  gANdcQAoY3BoZS5wYWlsGllcgpFmNyeXB0ZWROdW1iZXIK...  "
      ]
     },
     "execution_count": 30,
     "metadata": {},
     "output_type": "execute_result"
    }
   ],
   "source": [
    "dataset"
   ]
  },
  {
   "cell_type": "code",
   "execution_count": null,
   "metadata": {},
   "outputs": [],
   "source": []
  },
  {
   "cell_type": "code",
   "execution_count": null,
   "metadata": {},
   "outputs": [],
   "source": []
  },
  {
   "cell_type": "code",
   "execution_count": null,
   "metadata": {},
   "outputs": [],
   "source": []
  }
 ],
 "metadata": {
  "kernelspec": {
   "display_name": "Python 3.7.4 64-bit",
   "language": "python",
   "name": "python37464bit0eb2a432196c4aa8853a1c1bbe43c759"
  },
  "language_info": {
   "codemirror_mode": {
    "name": "ipython",
    "version": 3
   },
   "file_extension": ".py",
   "mimetype": "text/x-python",
   "name": "python",
   "nbconvert_exporter": "python",
   "pygments_lexer": "ipython3",
   "version": "3.7.4"
  }
 },
 "nbformat": 4,
 "nbformat_minor": 2
}
